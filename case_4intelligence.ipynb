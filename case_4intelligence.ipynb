{
 "cells": [
  {
   "cell_type": "markdown",
   "id": "23b53ab8",
   "metadata": {},
   "source": [
    "# Modelo preditivo de classificação"
   ]
  },
  {
   "cell_type": "code",
   "execution_count": 1,
   "id": "f75b8888",
   "metadata": {},
   "outputs": [],
   "source": [
    "# Pacotes\n",
    "import numpy as np\n",
    "import matplotlib.pyplot as plt\n",
    "import pandas as pd\n",
    "import seaborn as sns\n",
    "from sklearn.impute import KNNImputer\n",
    "from sklearn.preprocessing import StandardScaler\n",
    "%matplotlib inline"
   ]
  },
  {
   "cell_type": "code",
   "execution_count": 2,
   "id": "4c330480",
   "metadata": {},
   "outputs": [
    {
     "name": "stdout",
     "output_type": "stream",
     "text": [
      "(30000, 25)\n"
     ]
    }
   ],
   "source": [
    "# Base\n",
    "C = pd.read_csv('C:/Users/prkas/Dropbox/Pessoal/Emprego/4intelligence/UCI_Credit_Card.csv')\n",
    "print(C.shape)"
   ]
  },
  {
   "cell_type": "markdown",
   "id": "c7a8f311",
   "metadata": {},
   "source": [
    "## 1 - Limpeza e preparação dos dados"
   ]
  },
  {
   "cell_type": "code",
   "execution_count": 3,
   "id": "5e46376c",
   "metadata": {
    "scrolled": false
   },
   "outputs": [
    {
     "data": {
      "text/plain": [
       "ID                            0\n",
       "LIMIT_BAL                     0\n",
       "SEX                           0\n",
       "EDUCATION                     0\n",
       "MARRIAGE                      0\n",
       "AGE                           0\n",
       "PAY_0                         0\n",
       "PAY_2                         0\n",
       "PAY_3                         0\n",
       "PAY_4                         0\n",
       "PAY_5                         0\n",
       "PAY_6                         0\n",
       "BILL_AMT1                     0\n",
       "BILL_AMT2                     0\n",
       "BILL_AMT3                     0\n",
       "BILL_AMT4                     0\n",
       "BILL_AMT5                     0\n",
       "BILL_AMT6                     0\n",
       "PAY_AMT1                      0\n",
       "PAY_AMT2                      0\n",
       "PAY_AMT3                      0\n",
       "PAY_AMT4                      0\n",
       "PAY_AMT5                      0\n",
       "PAY_AMT6                      0\n",
       "default.payment.next.month    0\n",
       "dtype: int64"
      ]
     },
     "execution_count": 3,
     "metadata": {},
     "output_type": "execute_result"
    }
   ],
   "source": [
    "# Não há valores nulos no dataframe\n",
    "C.isnull().sum()"
   ]
  },
  {
   "cell_type": "code",
   "execution_count": 4,
   "id": "9b792d05",
   "metadata": {
    "scrolled": false
   },
   "outputs": [
    {
     "data": {
      "text/html": [
       "<div>\n",
       "<style scoped>\n",
       "    .dataframe tbody tr th:only-of-type {\n",
       "        vertical-align: middle;\n",
       "    }\n",
       "\n",
       "    .dataframe tbody tr th {\n",
       "        vertical-align: top;\n",
       "    }\n",
       "\n",
       "    .dataframe thead th {\n",
       "        text-align: right;\n",
       "    }\n",
       "</style>\n",
       "<table border=\"1\" class=\"dataframe\">\n",
       "  <thead>\n",
       "    <tr style=\"text-align: right;\">\n",
       "      <th></th>\n",
       "      <th>ID</th>\n",
       "      <th>LIMIT_BAL</th>\n",
       "      <th>SEX</th>\n",
       "      <th>EDUCATION</th>\n",
       "      <th>MARRIAGE</th>\n",
       "      <th>AGE</th>\n",
       "      <th>PAY_0</th>\n",
       "      <th>PAY_2</th>\n",
       "      <th>PAY_3</th>\n",
       "      <th>PAY_4</th>\n",
       "      <th>...</th>\n",
       "      <th>BILL_AMT4</th>\n",
       "      <th>BILL_AMT5</th>\n",
       "      <th>BILL_AMT6</th>\n",
       "      <th>PAY_AMT1</th>\n",
       "      <th>PAY_AMT2</th>\n",
       "      <th>PAY_AMT3</th>\n",
       "      <th>PAY_AMT4</th>\n",
       "      <th>PAY_AMT5</th>\n",
       "      <th>PAY_AMT6</th>\n",
       "      <th>default.payment.next.month</th>\n",
       "    </tr>\n",
       "  </thead>\n",
       "  <tbody>\n",
       "    <tr>\n",
       "      <th>count</th>\n",
       "      <td>30000.000000</td>\n",
       "      <td>30000.000000</td>\n",
       "      <td>30000.000000</td>\n",
       "      <td>30000.000000</td>\n",
       "      <td>30000.000000</td>\n",
       "      <td>30000.000000</td>\n",
       "      <td>30000.000000</td>\n",
       "      <td>30000.000000</td>\n",
       "      <td>30000.000000</td>\n",
       "      <td>30000.000000</td>\n",
       "      <td>...</td>\n",
       "      <td>30000.000000</td>\n",
       "      <td>30000.000000</td>\n",
       "      <td>30000.000000</td>\n",
       "      <td>30000.000000</td>\n",
       "      <td>3.000000e+04</td>\n",
       "      <td>30000.00000</td>\n",
       "      <td>30000.000000</td>\n",
       "      <td>30000.000000</td>\n",
       "      <td>30000.000000</td>\n",
       "      <td>30000.000000</td>\n",
       "    </tr>\n",
       "    <tr>\n",
       "      <th>mean</th>\n",
       "      <td>15000.500000</td>\n",
       "      <td>167484.322667</td>\n",
       "      <td>1.603733</td>\n",
       "      <td>1.853133</td>\n",
       "      <td>1.551867</td>\n",
       "      <td>35.485500</td>\n",
       "      <td>-0.016700</td>\n",
       "      <td>-0.133767</td>\n",
       "      <td>-0.166200</td>\n",
       "      <td>-0.220667</td>\n",
       "      <td>...</td>\n",
       "      <td>43262.948967</td>\n",
       "      <td>40311.400967</td>\n",
       "      <td>38871.760400</td>\n",
       "      <td>5663.580500</td>\n",
       "      <td>5.921163e+03</td>\n",
       "      <td>5225.68150</td>\n",
       "      <td>4826.076867</td>\n",
       "      <td>4799.387633</td>\n",
       "      <td>5215.502567</td>\n",
       "      <td>0.221200</td>\n",
       "    </tr>\n",
       "    <tr>\n",
       "      <th>std</th>\n",
       "      <td>8660.398374</td>\n",
       "      <td>129747.661567</td>\n",
       "      <td>0.489129</td>\n",
       "      <td>0.790349</td>\n",
       "      <td>0.521970</td>\n",
       "      <td>9.217904</td>\n",
       "      <td>1.123802</td>\n",
       "      <td>1.197186</td>\n",
       "      <td>1.196868</td>\n",
       "      <td>1.169139</td>\n",
       "      <td>...</td>\n",
       "      <td>64332.856134</td>\n",
       "      <td>60797.155770</td>\n",
       "      <td>59554.107537</td>\n",
       "      <td>16563.280354</td>\n",
       "      <td>2.304087e+04</td>\n",
       "      <td>17606.96147</td>\n",
       "      <td>15666.159744</td>\n",
       "      <td>15278.305679</td>\n",
       "      <td>17777.465775</td>\n",
       "      <td>0.415062</td>\n",
       "    </tr>\n",
       "    <tr>\n",
       "      <th>min</th>\n",
       "      <td>1.000000</td>\n",
       "      <td>10000.000000</td>\n",
       "      <td>1.000000</td>\n",
       "      <td>0.000000</td>\n",
       "      <td>0.000000</td>\n",
       "      <td>21.000000</td>\n",
       "      <td>-2.000000</td>\n",
       "      <td>-2.000000</td>\n",
       "      <td>-2.000000</td>\n",
       "      <td>-2.000000</td>\n",
       "      <td>...</td>\n",
       "      <td>-170000.000000</td>\n",
       "      <td>-81334.000000</td>\n",
       "      <td>-339603.000000</td>\n",
       "      <td>0.000000</td>\n",
       "      <td>0.000000e+00</td>\n",
       "      <td>0.00000</td>\n",
       "      <td>0.000000</td>\n",
       "      <td>0.000000</td>\n",
       "      <td>0.000000</td>\n",
       "      <td>0.000000</td>\n",
       "    </tr>\n",
       "    <tr>\n",
       "      <th>25%</th>\n",
       "      <td>7500.750000</td>\n",
       "      <td>50000.000000</td>\n",
       "      <td>1.000000</td>\n",
       "      <td>1.000000</td>\n",
       "      <td>1.000000</td>\n",
       "      <td>28.000000</td>\n",
       "      <td>-1.000000</td>\n",
       "      <td>-1.000000</td>\n",
       "      <td>-1.000000</td>\n",
       "      <td>-1.000000</td>\n",
       "      <td>...</td>\n",
       "      <td>2326.750000</td>\n",
       "      <td>1763.000000</td>\n",
       "      <td>1256.000000</td>\n",
       "      <td>1000.000000</td>\n",
       "      <td>8.330000e+02</td>\n",
       "      <td>390.00000</td>\n",
       "      <td>296.000000</td>\n",
       "      <td>252.500000</td>\n",
       "      <td>117.750000</td>\n",
       "      <td>0.000000</td>\n",
       "    </tr>\n",
       "    <tr>\n",
       "      <th>50%</th>\n",
       "      <td>15000.500000</td>\n",
       "      <td>140000.000000</td>\n",
       "      <td>2.000000</td>\n",
       "      <td>2.000000</td>\n",
       "      <td>2.000000</td>\n",
       "      <td>34.000000</td>\n",
       "      <td>0.000000</td>\n",
       "      <td>0.000000</td>\n",
       "      <td>0.000000</td>\n",
       "      <td>0.000000</td>\n",
       "      <td>...</td>\n",
       "      <td>19052.000000</td>\n",
       "      <td>18104.500000</td>\n",
       "      <td>17071.000000</td>\n",
       "      <td>2100.000000</td>\n",
       "      <td>2.009000e+03</td>\n",
       "      <td>1800.00000</td>\n",
       "      <td>1500.000000</td>\n",
       "      <td>1500.000000</td>\n",
       "      <td>1500.000000</td>\n",
       "      <td>0.000000</td>\n",
       "    </tr>\n",
       "    <tr>\n",
       "      <th>75%</th>\n",
       "      <td>22500.250000</td>\n",
       "      <td>240000.000000</td>\n",
       "      <td>2.000000</td>\n",
       "      <td>2.000000</td>\n",
       "      <td>2.000000</td>\n",
       "      <td>41.000000</td>\n",
       "      <td>0.000000</td>\n",
       "      <td>0.000000</td>\n",
       "      <td>0.000000</td>\n",
       "      <td>0.000000</td>\n",
       "      <td>...</td>\n",
       "      <td>54506.000000</td>\n",
       "      <td>50190.500000</td>\n",
       "      <td>49198.250000</td>\n",
       "      <td>5006.000000</td>\n",
       "      <td>5.000000e+03</td>\n",
       "      <td>4505.00000</td>\n",
       "      <td>4013.250000</td>\n",
       "      <td>4031.500000</td>\n",
       "      <td>4000.000000</td>\n",
       "      <td>0.000000</td>\n",
       "    </tr>\n",
       "    <tr>\n",
       "      <th>max</th>\n",
       "      <td>30000.000000</td>\n",
       "      <td>1000000.000000</td>\n",
       "      <td>2.000000</td>\n",
       "      <td>6.000000</td>\n",
       "      <td>3.000000</td>\n",
       "      <td>79.000000</td>\n",
       "      <td>8.000000</td>\n",
       "      <td>8.000000</td>\n",
       "      <td>8.000000</td>\n",
       "      <td>8.000000</td>\n",
       "      <td>...</td>\n",
       "      <td>891586.000000</td>\n",
       "      <td>927171.000000</td>\n",
       "      <td>961664.000000</td>\n",
       "      <td>873552.000000</td>\n",
       "      <td>1.684259e+06</td>\n",
       "      <td>896040.00000</td>\n",
       "      <td>621000.000000</td>\n",
       "      <td>426529.000000</td>\n",
       "      <td>528666.000000</td>\n",
       "      <td>1.000000</td>\n",
       "    </tr>\n",
       "  </tbody>\n",
       "</table>\n",
       "<p>8 rows × 25 columns</p>\n",
       "</div>"
      ],
      "text/plain": [
       "                 ID       LIMIT_BAL           SEX     EDUCATION      MARRIAGE  \\\n",
       "count  30000.000000    30000.000000  30000.000000  30000.000000  30000.000000   \n",
       "mean   15000.500000   167484.322667      1.603733      1.853133      1.551867   \n",
       "std     8660.398374   129747.661567      0.489129      0.790349      0.521970   \n",
       "min        1.000000    10000.000000      1.000000      0.000000      0.000000   \n",
       "25%     7500.750000    50000.000000      1.000000      1.000000      1.000000   \n",
       "50%    15000.500000   140000.000000      2.000000      2.000000      2.000000   \n",
       "75%    22500.250000   240000.000000      2.000000      2.000000      2.000000   \n",
       "max    30000.000000  1000000.000000      2.000000      6.000000      3.000000   \n",
       "\n",
       "                AGE         PAY_0         PAY_2         PAY_3         PAY_4  \\\n",
       "count  30000.000000  30000.000000  30000.000000  30000.000000  30000.000000   \n",
       "mean      35.485500     -0.016700     -0.133767     -0.166200     -0.220667   \n",
       "std        9.217904      1.123802      1.197186      1.196868      1.169139   \n",
       "min       21.000000     -2.000000     -2.000000     -2.000000     -2.000000   \n",
       "25%       28.000000     -1.000000     -1.000000     -1.000000     -1.000000   \n",
       "50%       34.000000      0.000000      0.000000      0.000000      0.000000   \n",
       "75%       41.000000      0.000000      0.000000      0.000000      0.000000   \n",
       "max       79.000000      8.000000      8.000000      8.000000      8.000000   \n",
       "\n",
       "       ...      BILL_AMT4      BILL_AMT5      BILL_AMT6       PAY_AMT1  \\\n",
       "count  ...   30000.000000   30000.000000   30000.000000   30000.000000   \n",
       "mean   ...   43262.948967   40311.400967   38871.760400    5663.580500   \n",
       "std    ...   64332.856134   60797.155770   59554.107537   16563.280354   \n",
       "min    ... -170000.000000  -81334.000000 -339603.000000       0.000000   \n",
       "25%    ...    2326.750000    1763.000000    1256.000000    1000.000000   \n",
       "50%    ...   19052.000000   18104.500000   17071.000000    2100.000000   \n",
       "75%    ...   54506.000000   50190.500000   49198.250000    5006.000000   \n",
       "max    ...  891586.000000  927171.000000  961664.000000  873552.000000   \n",
       "\n",
       "           PAY_AMT2      PAY_AMT3       PAY_AMT4       PAY_AMT5  \\\n",
       "count  3.000000e+04   30000.00000   30000.000000   30000.000000   \n",
       "mean   5.921163e+03    5225.68150    4826.076867    4799.387633   \n",
       "std    2.304087e+04   17606.96147   15666.159744   15278.305679   \n",
       "min    0.000000e+00       0.00000       0.000000       0.000000   \n",
       "25%    8.330000e+02     390.00000     296.000000     252.500000   \n",
       "50%    2.009000e+03    1800.00000    1500.000000    1500.000000   \n",
       "75%    5.000000e+03    4505.00000    4013.250000    4031.500000   \n",
       "max    1.684259e+06  896040.00000  621000.000000  426529.000000   \n",
       "\n",
       "            PAY_AMT6  default.payment.next.month  \n",
       "count   30000.000000                30000.000000  \n",
       "mean     5215.502567                    0.221200  \n",
       "std     17777.465775                    0.415062  \n",
       "min         0.000000                    0.000000  \n",
       "25%       117.750000                    0.000000  \n",
       "50%      1500.000000                    0.000000  \n",
       "75%      4000.000000                    0.000000  \n",
       "max    528666.000000                    1.000000  \n",
       "\n",
       "[8 rows x 25 columns]"
      ]
     },
     "execution_count": 4,
     "metadata": {},
     "output_type": "execute_result"
    }
   ],
   "source": [
    "C.describe()"
   ]
  },
  {
   "cell_type": "markdown",
   "id": "55b4f1c9",
   "metadata": {},
   "source": [
    "Vou supor que valor negativo de fatura era possível em Taiwan em 2005."
   ]
  },
  {
   "cell_type": "code",
   "execution_count": 5,
   "id": "7b54ce03",
   "metadata": {
    "scrolled": true
   },
   "outputs": [
    {
     "data": {
      "text/plain": [
       "ID    1930\n",
       "dtype: int64"
      ]
     },
     "execution_count": 5,
     "metadata": {},
     "output_type": "execute_result"
    }
   ],
   "source": [
    "C[(C['BILL_AMT1']<0) | (C['BILL_AMT2']<0) | (C['BILL_AMT3']<0) | \n",
    "  (C['BILL_AMT4']<0) | (C['BILL_AMT5']<0) | (C['BILL_AMT6']<0)][['ID']].count()"
   ]
  },
  {
   "cell_type": "code",
   "execution_count": 6,
   "id": "1f21f680",
   "metadata": {
    "scrolled": true
   },
   "outputs": [
    {
     "name": "stdout",
     "output_type": "stream",
     "text": [
      "The number of values for feature ID is: 30000\n",
      "The number of values for feature LIMIT_BAL is: 81\n",
      "The number of values for feature SEX is: 2 -- [1 2]\n",
      "The number of values for feature EDUCATION is: 7 -- [0 1 2 3 4 5 6]\n",
      "The number of values for feature MARRIAGE is: 4 -- [0 1 2 3]\n",
      "The number of values for feature AGE is: 56\n",
      "The number of values for feature PAY_0 is: 11 -- [-2 -1  0  1  2  3  4  5  6  7  8]\n",
      "The number of values for feature PAY_2 is: 11 -- [-2 -1  0  1  2  3  4  5  6  7  8]\n",
      "The number of values for feature PAY_3 is: 11 -- [-2 -1  0  1  2  3  4  5  6  7  8]\n",
      "The number of values for feature PAY_4 is: 11 -- [-2 -1  0  1  2  3  4  5  6  7  8]\n",
      "The number of values for feature PAY_5 is: 10 -- [-2 -1  0  2  3  4  5  6  7  8]\n",
      "The number of values for feature PAY_6 is: 10 -- [-2 -1  0  2  3  4  5  6  7  8]\n",
      "The number of values for feature BILL_AMT1 is: 22723\n",
      "The number of values for feature BILL_AMT2 is: 22346\n",
      "The number of values for feature BILL_AMT3 is: 22026\n",
      "The number of values for feature BILL_AMT4 is: 21548\n",
      "The number of values for feature BILL_AMT5 is: 21010\n",
      "The number of values for feature BILL_AMT6 is: 20604\n",
      "The number of values for feature PAY_AMT1 is: 7943\n",
      "The number of values for feature PAY_AMT2 is: 7899\n",
      "The number of values for feature PAY_AMT3 is: 7518\n",
      "The number of values for feature PAY_AMT4 is: 6937\n",
      "The number of values for feature PAY_AMT5 is: 6897\n",
      "The number of values for feature PAY_AMT6 is: 6939\n",
      "The number of values for feature default.payment.next.month is: 2 -- [0 1]\n"
     ]
    }
   ],
   "source": [
    "for column in C:\n",
    "    unique_values = np.unique(C[column])\n",
    "    nr_values = len(unique_values)\n",
    "    if nr_values <= 11:\n",
    "        print(\"The number of values for feature {} is: {} -- {}\".format(column, nr_values, unique_values))\n",
    "    else:\n",
    "        print(\"The number of values for feature {} is: {}\".format(column, nr_values))"
   ]
  },
  {
   "cell_type": "code",
   "execution_count": 7,
   "id": "b6c6bdcf",
   "metadata": {
    "scrolled": true
   },
   "outputs": [
    {
     "data": {
      "text/plain": [
       "EDUCATION\n",
       "2            14030\n",
       "1            10585\n",
       "3             4917\n",
       "5              280\n",
       "4              123\n",
       "6               51\n",
       "0               14\n",
       "dtype: int64"
      ]
     },
     "execution_count": 7,
     "metadata": {},
     "output_type": "execute_result"
    }
   ],
   "source": [
    "C[['EDUCATION']].value_counts()"
   ]
  },
  {
   "cell_type": "code",
   "execution_count": 8,
   "id": "00d811bf",
   "metadata": {
    "scrolled": false
   },
   "outputs": [
    {
     "data": {
      "text/plain": [
       "MARRIAGE\n",
       "2           15964\n",
       "1           13659\n",
       "3             323\n",
       "0              54\n",
       "dtype: int64"
      ]
     },
     "execution_count": 8,
     "metadata": {},
     "output_type": "execute_result"
    }
   ],
   "source": [
    "C[['MARRIAGE']].value_counts()"
   ]
  },
  {
   "cell_type": "markdown",
   "id": "8b02209b",
   "metadata": {},
   "source": [
    "Variáveis education e marriage têm categorias não documentadas, que serão excluídas por terem poucos casos."
   ]
  },
  {
   "cell_type": "code",
   "execution_count": 9,
   "id": "83f03edf",
   "metadata": {},
   "outputs": [],
   "source": [
    "C = C[(C[\"EDUCATION\"]>0) & (C[\"EDUCATION\"]<5)].reset_index()\n",
    "C = C[C[\"MARRIAGE\"]!=0].reset_index()"
   ]
  },
  {
   "cell_type": "code",
   "execution_count": 10,
   "id": "98298e5f",
   "metadata": {
    "scrolled": false
   },
   "outputs": [
    {
     "data": {
      "text/plain": [
       "PAY_0\n",
       " 0       14499\n",
       "-1        5633\n",
       " 1        3662\n",
       "-2        2708\n",
       " 2        2640\n",
       " 3         320\n",
       " 4          76\n",
       " 5          24\n",
       " 8          19\n",
       " 6          11\n",
       " 7           9\n",
       "dtype: int64"
      ]
     },
     "execution_count": 10,
     "metadata": {},
     "output_type": "execute_result"
    }
   ],
   "source": [
    "C[['PAY_0']].value_counts()"
   ]
  },
  {
   "cell_type": "markdown",
   "id": "66b8e1dd",
   "metadata": {},
   "source": [
    "As variáveis PAY_i deveriam ter as seguintes categorias:\n",
    "-1 = pago na data correta,\n",
    " 1 = pago com 1 mês de atraso,\n",
    " ...,\n",
    " 9 = pago com 9 meses ou mais de atraso.\n",
    "Porém, há também os valores 0 e -2. Juntas, essas categorias representam mais da metade das observações das variáveis PAY_i, o que demanda uma investigação mais profunda sobre a natureza desses valores."
   ]
  },
  {
   "cell_type": "code",
   "execution_count": 11,
   "id": "b6b04315",
   "metadata": {
    "scrolled": false
   },
   "outputs": [
    {
     "data": {
      "text/plain": [
       "<AxesSubplot:xlabel='PAY_0'>"
      ]
     },
     "execution_count": 11,
     "metadata": {},
     "output_type": "execute_result"
    },
    {
     "data": {
      "image/png": "[encoded data removed]",
      "text/plain": [
       "<Figure size 432x288 with 1 Axes>"
      ]
     },
     "metadata": {
      "needs_background": "light"
     },
     "output_type": "display_data"
    }
   ],
   "source": [
    "C.groupby('PAY_0')[['default.payment.next.month']].agg(['mean']).plot(kind = 'bar')"
   ]
  },
  {
   "cell_type": "code",
   "execution_count": 12,
   "id": "ee4ba534",
   "metadata": {
    "scrolled": true
   },
   "outputs": [
    {
     "data": {
      "text/plain": [
       "<AxesSubplot:xlabel='PAY_0'>"
      ]
     },
     "execution_count": 12,
     "metadata": {},
     "output_type": "execute_result"
    },
    {
     "data": {
      "image/png": "[encoded data removed]",
      "text/plain": [
       "<Figure size 432x288 with 1 Axes>"
      ]
     },
     "metadata": {
      "needs_background": "light"
     },
     "output_type": "display_data"
    }
   ],
   "source": [
    "C.groupby('PAY_0')[['LIMIT_BAL']].agg(['mean']).plot(kind = 'bar')"
   ]
  },
  {
   "cell_type": "code",
   "execution_count": 13,
   "id": "075ad2fe",
   "metadata": {
    "scrolled": false
   },
   "outputs": [
    {
     "data": {
      "text/plain": [
       "<AxesSubplot:xlabel='PAY_0'>"
      ]
     },
     "execution_count": 13,
     "metadata": {},
     "output_type": "execute_result"
    },
    {
     "data": {
      "image/png": "[encoded data removed]",
      "text/plain": [
       "<Figure size 432x288 with 1 Axes>"
      ]
     },
     "metadata": {
      "needs_background": "light"
     },
     "output_type": "display_data"
    }
   ],
   "source": [
    "C.groupby('PAY_0')[['BILL_AMT1']].agg(['mean']).plot(kind = 'bar')"
   ]
  },
  {
   "cell_type": "code",
   "execution_count": 14,
   "id": "6babeb92",
   "metadata": {},
   "outputs": [
    {
     "data": {
      "text/plain": [
       "<AxesSubplot:xlabel='PAY_0'>"
      ]
     },
     "execution_count": 14,
     "metadata": {},
     "output_type": "execute_result"
    },
    {
     "data": {
      "image/png": "[encoded data removed]",
      "text/plain": [
       "<Figure size 432x288 with 1 Axes>"
      ]
     },
     "metadata": {
      "needs_background": "light"
     },
     "output_type": "display_data"
    }
   ],
   "source": [
    "C.groupby('PAY_0')[['BILL_AMT2']].agg(['mean']).plot(kind = 'bar')"
   ]
  },
  {
   "cell_type": "code",
   "execution_count": 15,
   "id": "5c997ded",
   "metadata": {
    "scrolled": true
   },
   "outputs": [
    {
     "data": {
      "text/plain": [
       "<AxesSubplot:xlabel='PAY_0'>"
      ]
     },
     "execution_count": 15,
     "metadata": {},
     "output_type": "execute_result"
    },
    {
     "data": {
      "image/png": "[encoded data removed]",
      "text/plain": [
       "<Figure size 432x288 with 1 Axes>"
      ]
     },
     "metadata": {
      "needs_background": "light"
     },
     "output_type": "display_data"
    }
   ],
   "source": [
    "C.groupby('PAY_0')[['PAY_AMT1']].agg(['mean']).plot(kind = 'bar')"
   ]
  },
  {
   "cell_type": "code",
   "execution_count": 16,
   "id": "08c03aa3",
   "metadata": {
    "scrolled": true
   },
   "outputs": [
    {
     "data": {
      "text/plain": [
       "<AxesSubplot:xlabel='PAY_0'>"
      ]
     },
     "execution_count": 16,
     "metadata": {},
     "output_type": "execute_result"
    },
    {
     "data": {
      "image/png": "[encoded data removed]",
      "text/plain": [
       "<Figure size 432x288 with 1 Axes>"
      ]
     },
     "metadata": {
      "needs_background": "light"
     },
     "output_type": "display_data"
    }
   ],
   "source": [
    "C.groupby('PAY_0')[['PAY_AMT3']].agg(['mean']).plot(kind = 'bar')"
   ]
  },
  {
   "cell_type": "markdown",
   "id": "5962a88f",
   "metadata": {},
   "source": [
    "Valores -2 e 0 de PAY_i estão associados, em média, a um percentual menor de default, um limite maior e um pagamento maior.\n",
    "O valor -2 se associa a valor de fatura mais baixo, enquando o valor 0 a um mais alto. Vou imputar esses valores usando k-nearst neighbors."
   ]
  },
  {
   "cell_type": "code",
   "execution_count": 17,
   "id": "c30d4e3c",
   "metadata": {},
   "outputs": [],
   "source": [
    "for p in [0, 2, 3, 4, 5, 6]:\n",
    "    C.loc[(C['PAY_' + str(p)]==-2) | (C['PAY_' + str(p)]==0), 'PAY_' + str(p)] = np.nan"
   ]
  },
  {
   "cell_type": "code",
   "execution_count": 18,
   "id": "c97768e9",
   "metadata": {},
   "outputs": [],
   "source": [
    "# Dummies de gênero, educação e estado civil\n",
    "C['mulher'] = np.where(C['SEX']==1, 0, 1)\n",
    "C['esc_pos'] = np.where(C['EDUCATION']==1, 1, 0)\n",
    "C['esc_outras'] = np.where((C['EDUCATION']==3) | (C['EDUCATION']==4), 1, 0)\n",
    "C['casada'] = np.where(C['MARRIAGE']==1, 1, 0)"
   ]
  },
  {
   "cell_type": "code",
   "execution_count": 19,
   "id": "0ca7bc4e",
   "metadata": {},
   "outputs": [],
   "source": [
    "C = C.rename(columns = {'PAY_0': 'PAY_1', 'default.payment.next.month': 'target'})\n",
    "C = C[['target', 'mulher', 'esc_pos', 'esc_outras', 'casada', \n",
    "       'PAY_1', 'PAY_2', 'PAY_3', 'PAY_4', 'PAY_5', 'PAY_6', 'LIMIT_BAL',\n",
    "       'PAY_AMT1', 'PAY_AMT2', 'PAY_AMT3', 'PAY_AMT4', 'PAY_AMT5', 'PAY_AMT6',\n",
    "       'BILL_AMT1', 'BILL_AMT2', 'BILL_AMT3', 'BILL_AMT4', 'BILL_AMT5', 'BILL_AMT6']]"
   ]
  },
  {
   "cell_type": "code",
   "execution_count": 20,
   "id": "197261ef",
   "metadata": {},
   "outputs": [
    {
     "name": "stdout",
     "output_type": "stream",
     "text": [
      "(29601, 24)\n"
     ]
    }
   ],
   "source": [
    "print(C.shape)"
   ]
  },
  {
   "cell_type": "code",
   "execution_count": 21,
   "id": "ab47534d",
   "metadata": {},
   "outputs": [],
   "source": [
    "C1 = C[['target']]\n",
    "C2 = C.drop('target', axis=1)\n",
    "nomes = C2.columns\n",
    "\n",
    "C3 = pd.DataFrame(StandardScaler().fit_transform(C2[['LIMIT_BAL', \n",
    "                                                     'PAY_AMT1', 'PAY_AMT2', 'PAY_AMT3', \n",
    "                                                     'PAY_AMT4', 'PAY_AMT5', 'PAY_AMT6', \n",
    "                                                     'BILL_AMT1', 'BILL_AMT2', 'BILL_AMT3', \n",
    "                                                     'BILL_AMT4', 'BILL_AMT5', 'BILL_AMT6']]), \n",
    "                  columns = nomes[10:23])\n",
    "\n",
    "C4 = pd.concat([C2[['mulher', 'esc_pos', 'esc_outras', 'casada', \n",
    "                'PAY_1', 'PAY_2', 'PAY_3', 'PAY_4', 'PAY_5', 'PAY_6']], C3], axis = 1)"
   ]
  },
  {
   "cell_type": "code",
   "execution_count": 22,
   "id": "4103b316",
   "metadata": {},
   "outputs": [],
   "source": [
    "imputer = KNNImputer(n_neighbors=2)\n",
    "C5 = pd.DataFrame(imputer.fit_transform(C4), columns = nomes).round({'PAY_1': 0, 'PAY_2': 0, 'PAY_3': 0, \n",
    "                                                                     'PAY_4': 0, 'PAY_5': 0, 'PAY_6': 0})"
   ]
  },
  {
   "cell_type": "code",
   "execution_count": 23,
   "id": "a7a1a76d",
   "metadata": {},
   "outputs": [],
   "source": [
    "for p in [1, 2, 3, 4, 5, 6]:\n",
    "    C5['pagou_data_' + str(p)] = np.where(C5['PAY_' + str(p)]==-1, 1, 0)"
   ]
  },
  {
   "cell_type": "code",
   "execution_count": 24,
   "id": "36afceda",
   "metadata": {},
   "outputs": [],
   "source": [
    "C5 = C5.drop(['PAY_1', 'PAY_2', 'PAY_3', 'PAY_4', 'PAY_5', 'PAY_6'], axis=1)"
   ]
  },
  {
   "cell_type": "code",
   "execution_count": 25,
   "id": "2cb476a9",
   "metadata": {
    "scrolled": true
   },
   "outputs": [
    {
     "data": {
      "text/html": [
       "<div>\n",
       "<style scoped>\n",
       "    .dataframe tbody tr th:only-of-type {\n",
       "        vertical-align: middle;\n",
       "    }\n",
       "\n",
       "    .dataframe tbody tr th {\n",
       "        vertical-align: top;\n",
       "    }\n",
       "\n",
       "    .dataframe thead th {\n",
       "        text-align: right;\n",
       "    }\n",
       "</style>\n",
       "<table border=\"1\" class=\"dataframe\">\n",
       "  <thead>\n",
       "    <tr style=\"text-align: right;\">\n",
       "      <th></th>\n",
       "      <th>mulher</th>\n",
       "      <th>esc_pos</th>\n",
       "      <th>esc_outras</th>\n",
       "      <th>casada</th>\n",
       "      <th>LIMIT_BAL</th>\n",
       "      <th>PAY_AMT1</th>\n",
       "      <th>PAY_AMT2</th>\n",
       "      <th>PAY_AMT3</th>\n",
       "      <th>PAY_AMT4</th>\n",
       "      <th>PAY_AMT5</th>\n",
       "      <th>...</th>\n",
       "      <th>BILL_AMT3</th>\n",
       "      <th>BILL_AMT4</th>\n",
       "      <th>BILL_AMT5</th>\n",
       "      <th>BILL_AMT6</th>\n",
       "      <th>pagou_data_1</th>\n",
       "      <th>pagou_data_2</th>\n",
       "      <th>pagou_data_3</th>\n",
       "      <th>pagou_data_4</th>\n",
       "      <th>pagou_data_5</th>\n",
       "      <th>pagou_data_6</th>\n",
       "    </tr>\n",
       "  </thead>\n",
       "  <tbody>\n",
       "    <tr>\n",
       "      <th>0</th>\n",
       "      <td>1.0</td>\n",
       "      <td>0.0</td>\n",
       "      <td>0.0</td>\n",
       "      <td>1.0</td>\n",
       "      <td>-1.135512</td>\n",
       "      <td>-0.340993</td>\n",
       "      <td>-0.225468</td>\n",
       "      <td>-0.295690</td>\n",
       "      <td>-0.307347</td>\n",
       "      <td>-0.314553</td>\n",
       "      <td>...</td>\n",
       "      <td>-0.667135</td>\n",
       "      <td>-0.671740</td>\n",
       "      <td>-0.662877</td>\n",
       "      <td>-0.652876</td>\n",
       "      <td>0</td>\n",
       "      <td>0</td>\n",
       "      <td>1</td>\n",
       "      <td>1</td>\n",
       "      <td>1</td>\n",
       "      <td>1</td>\n",
       "    </tr>\n",
       "    <tr>\n",
       "      <th>1</th>\n",
       "      <td>1.0</td>\n",
       "      <td>0.0</td>\n",
       "      <td>0.0</td>\n",
       "      <td>0.0</td>\n",
       "      <td>-0.365937</td>\n",
       "      <td>-0.340993</td>\n",
       "      <td>-0.211998</td>\n",
       "      <td>-0.238809</td>\n",
       "      <td>-0.243696</td>\n",
       "      <td>-0.314553</td>\n",
       "      <td>...</td>\n",
       "      <td>-0.638302</td>\n",
       "      <td>-0.620771</td>\n",
       "      <td>-0.605957</td>\n",
       "      <td>-0.598087</td>\n",
       "      <td>1</td>\n",
       "      <td>0</td>\n",
       "      <td>0</td>\n",
       "      <td>1</td>\n",
       "      <td>1</td>\n",
       "      <td>0</td>\n",
       "    </tr>\n",
       "    <tr>\n",
       "      <th>2</th>\n",
       "      <td>1.0</td>\n",
       "      <td>0.0</td>\n",
       "      <td>0.0</td>\n",
       "      <td>0.0</td>\n",
       "      <td>-0.596810</td>\n",
       "      <td>-0.249370</td>\n",
       "      <td>-0.190343</td>\n",
       "      <td>-0.238809</td>\n",
       "      <td>-0.243696</td>\n",
       "      <td>-0.248953</td>\n",
       "      <td>...</td>\n",
       "      <td>-0.480945</td>\n",
       "      <td>-0.448499</td>\n",
       "      <td>-0.416610</td>\n",
       "      <td>-0.391631</td>\n",
       "      <td>0</td>\n",
       "      <td>0</td>\n",
       "      <td>0</td>\n",
       "      <td>0</td>\n",
       "      <td>0</td>\n",
       "      <td>0</td>\n",
       "    </tr>\n",
       "    <tr>\n",
       "      <th>3</th>\n",
       "      <td>1.0</td>\n",
       "      <td>0.0</td>\n",
       "      <td>0.0</td>\n",
       "      <td>1.0</td>\n",
       "      <td>-0.904640</td>\n",
       "      <td>-0.220278</td>\n",
       "      <td>-0.167864</td>\n",
       "      <td>-0.227433</td>\n",
       "      <td>-0.237331</td>\n",
       "      <td>-0.244427</td>\n",
       "      <td>...</td>\n",
       "      <td>0.035991</td>\n",
       "      <td>-0.230680</td>\n",
       "      <td>-0.185780</td>\n",
       "      <td>-0.156445</td>\n",
       "      <td>0</td>\n",
       "      <td>0</td>\n",
       "      <td>0</td>\n",
       "      <td>0</td>\n",
       "      <td>0</td>\n",
       "      <td>0</td>\n",
       "    </tr>\n",
       "    <tr>\n",
       "      <th>4</th>\n",
       "      <td>0.0</td>\n",
       "      <td>0.0</td>\n",
       "      <td>0.0</td>\n",
       "      <td>1.0</td>\n",
       "      <td>-0.904640</td>\n",
       "      <td>-0.220278</td>\n",
       "      <td>1.333383</td>\n",
       "      <td>0.273118</td>\n",
       "      <td>0.265508</td>\n",
       "      <td>-0.269355</td>\n",
       "      <td>...</td>\n",
       "      <td>-0.158677</td>\n",
       "      <td>-0.345548</td>\n",
       "      <td>-0.347449</td>\n",
       "      <td>-0.331449</td>\n",
       "      <td>1</td>\n",
       "      <td>1</td>\n",
       "      <td>1</td>\n",
       "      <td>1</td>\n",
       "      <td>1</td>\n",
       "      <td>1</td>\n",
       "    </tr>\n",
       "    <tr>\n",
       "      <th>...</th>\n",
       "      <td>...</td>\n",
       "      <td>...</td>\n",
       "      <td>...</td>\n",
       "      <td>...</td>\n",
       "      <td>...</td>\n",
       "      <td>...</td>\n",
       "      <td>...</td>\n",
       "      <td>...</td>\n",
       "      <td>...</td>\n",
       "      <td>...</td>\n",
       "      <td>...</td>\n",
       "      <td>...</td>\n",
       "      <td>...</td>\n",
       "      <td>...</td>\n",
       "      <td>...</td>\n",
       "      <td>...</td>\n",
       "      <td>...</td>\n",
       "      <td>...</td>\n",
       "      <td>...</td>\n",
       "      <td>...</td>\n",
       "      <td>...</td>\n",
       "    </tr>\n",
       "    <tr>\n",
       "      <th>29596</th>\n",
       "      <td>0.0</td>\n",
       "      <td>0.0</td>\n",
       "      <td>1.0</td>\n",
       "      <td>1.0</td>\n",
       "      <td>0.403638</td>\n",
       "      <td>0.172045</td>\n",
       "      <td>0.610911</td>\n",
       "      <td>-0.011115</td>\n",
       "      <td>-0.113404</td>\n",
       "      <td>0.013446</td>\n",
       "      <td>...</td>\n",
       "      <td>2.337318</td>\n",
       "      <td>0.699139</td>\n",
       "      <td>-0.148250</td>\n",
       "      <td>-0.384390</td>\n",
       "      <td>0</td>\n",
       "      <td>0</td>\n",
       "      <td>0</td>\n",
       "      <td>0</td>\n",
       "      <td>0</td>\n",
       "      <td>1</td>\n",
       "    </tr>\n",
       "    <tr>\n",
       "      <th>29597</th>\n",
       "      <td>0.0</td>\n",
       "      <td>0.0</td>\n",
       "      <td>1.0</td>\n",
       "      <td>0.0</td>\n",
       "      <td>-0.135065</td>\n",
       "      <td>-0.230116</td>\n",
       "      <td>-0.102595</td>\n",
       "      <td>0.216123</td>\n",
       "      <td>-0.299136</td>\n",
       "      <td>-0.314553</td>\n",
       "      <td>...</td>\n",
       "      <td>-0.626439</td>\n",
       "      <td>-0.531870</td>\n",
       "      <td>-0.577373</td>\n",
       "      <td>-0.652876</td>\n",
       "      <td>1</td>\n",
       "      <td>1</td>\n",
       "      <td>1</td>\n",
       "      <td>1</td>\n",
       "      <td>1</td>\n",
       "      <td>1</td>\n",
       "    </tr>\n",
       "    <tr>\n",
       "      <th>29598</th>\n",
       "      <td>0.0</td>\n",
       "      <td>0.0</td>\n",
       "      <td>0.0</td>\n",
       "      <td>0.0</td>\n",
       "      <td>-1.058555</td>\n",
       "      <td>-0.340993</td>\n",
       "      <td>-0.255309</td>\n",
       "      <td>0.955688</td>\n",
       "      <td>-0.040014</td>\n",
       "      <td>-0.183353</td>\n",
       "      <td>...</td>\n",
       "      <td>-0.637203</td>\n",
       "      <td>-0.346514</td>\n",
       "      <td>-0.323791</td>\n",
       "      <td>-0.327651</td>\n",
       "      <td>0</td>\n",
       "      <td>0</td>\n",
       "      <td>0</td>\n",
       "      <td>1</td>\n",
       "      <td>1</td>\n",
       "      <td>1</td>\n",
       "    </tr>\n",
       "    <tr>\n",
       "      <th>29599</th>\n",
       "      <td>0.0</td>\n",
       "      <td>0.0</td>\n",
       "      <td>1.0</td>\n",
       "      <td>1.0</td>\n",
       "      <td>-0.673767</td>\n",
       "      <td>4.843705</td>\n",
       "      <td>-0.107662</td>\n",
       "      <td>-0.228685</td>\n",
       "      <td>-0.184756</td>\n",
       "      <td>3.159872</td>\n",
       "      <td>...</td>\n",
       "      <td>0.426789</td>\n",
       "      <td>0.150345</td>\n",
       "      <td>-0.467567</td>\n",
       "      <td>0.169451</td>\n",
       "      <td>0</td>\n",
       "      <td>1</td>\n",
       "      <td>1</td>\n",
       "      <td>1</td>\n",
       "      <td>1</td>\n",
       "      <td>1</td>\n",
       "    </tr>\n",
       "    <tr>\n",
       "      <th>29600</th>\n",
       "      <td>0.0</td>\n",
       "      <td>0.0</td>\n",
       "      <td>0.0</td>\n",
       "      <td>1.0</td>\n",
       "      <td>-0.904640</td>\n",
       "      <td>-0.215570</td>\n",
       "      <td>-0.177350</td>\n",
       "      <td>-0.214351</td>\n",
       "      <td>-0.243696</td>\n",
       "      <td>-0.248953</td>\n",
       "      <td>...</td>\n",
       "      <td>0.042834</td>\n",
       "      <td>-0.102617</td>\n",
       "      <td>-0.128629</td>\n",
       "      <td>-0.395596</td>\n",
       "      <td>0</td>\n",
       "      <td>0</td>\n",
       "      <td>0</td>\n",
       "      <td>0</td>\n",
       "      <td>0</td>\n",
       "      <td>0</td>\n",
       "    </tr>\n",
       "  </tbody>\n",
       "</table>\n",
       "<p>29601 rows × 23 columns</p>\n",
       "</div>"
      ],
      "text/plain": [
       "       mulher  esc_pos  esc_outras  casada  LIMIT_BAL  PAY_AMT1  PAY_AMT2  \\\n",
       "0         1.0      0.0         0.0     1.0  -1.135512 -0.340993 -0.225468   \n",
       "1         1.0      0.0         0.0     0.0  -0.365937 -0.340993 -0.211998   \n",
       "2         1.0      0.0         0.0     0.0  -0.596810 -0.249370 -0.190343   \n",
       "3         1.0      0.0         0.0     1.0  -0.904640 -0.220278 -0.167864   \n",
       "4         0.0      0.0         0.0     1.0  -0.904640 -0.220278  1.333383   \n",
       "...       ...      ...         ...     ...        ...       ...       ...   \n",
       "29596     0.0      0.0         1.0     1.0   0.403638  0.172045  0.610911   \n",
       "29597     0.0      0.0         1.0     0.0  -0.135065 -0.230116 -0.102595   \n",
       "29598     0.0      0.0         0.0     0.0  -1.058555 -0.340993 -0.255309   \n",
       "29599     0.0      0.0         1.0     1.0  -0.673767  4.843705 -0.107662   \n",
       "29600     0.0      0.0         0.0     1.0  -0.904640 -0.215570 -0.177350   \n",
       "\n",
       "       PAY_AMT3  PAY_AMT4  PAY_AMT5  ...  BILL_AMT3  BILL_AMT4  BILL_AMT5  \\\n",
       "0     -0.295690 -0.307347 -0.314553  ...  -0.667135  -0.671740  -0.662877   \n",
       "1     -0.238809 -0.243696 -0.314553  ...  -0.638302  -0.620771  -0.605957   \n",
       "2     -0.238809 -0.243696 -0.248953  ...  -0.480945  -0.448499  -0.416610   \n",
       "3     -0.227433 -0.237331 -0.244427  ...   0.035991  -0.230680  -0.185780   \n",
       "4      0.273118  0.265508 -0.269355  ...  -0.158677  -0.345548  -0.347449   \n",
       "...         ...       ...       ...  ...        ...        ...        ...   \n",
       "29596 -0.011115 -0.113404  0.013446  ...   2.337318   0.699139  -0.148250   \n",
       "29597  0.216123 -0.299136 -0.314553  ...  -0.626439  -0.531870  -0.577373   \n",
       "29598  0.955688 -0.040014 -0.183353  ...  -0.637203  -0.346514  -0.323791   \n",
       "29599 -0.228685 -0.184756  3.159872  ...   0.426789   0.150345  -0.467567   \n",
       "29600 -0.214351 -0.243696 -0.248953  ...   0.042834  -0.102617  -0.128629   \n",
       "\n",
       "       BILL_AMT6  pagou_data_1  pagou_data_2  pagou_data_3  pagou_data_4  \\\n",
       "0      -0.652876             0             0             1             1   \n",
       "1      -0.598087             1             0             0             1   \n",
       "2      -0.391631             0             0             0             0   \n",
       "3      -0.156445             0             0             0             0   \n",
       "4      -0.331449             1             1             1             1   \n",
       "...          ...           ...           ...           ...           ...   \n",
       "29596  -0.384390             0             0             0             0   \n",
       "29597  -0.652876             1             1             1             1   \n",
       "29598  -0.327651             0             0             0             1   \n",
       "29599   0.169451             0             1             1             1   \n",
       "29600  -0.395596             0             0             0             0   \n",
       "\n",
       "       pagou_data_5  pagou_data_6  \n",
       "0                 1             1  \n",
       "1                 1             0  \n",
       "2                 0             0  \n",
       "3                 0             0  \n",
       "4                 1             1  \n",
       "...             ...           ...  \n",
       "29596             0             1  \n",
       "29597             1             1  \n",
       "29598             1             1  \n",
       "29599             1             1  \n",
       "29600             0             0  \n",
       "\n",
       "[29601 rows x 23 columns]"
      ]
     },
     "execution_count": 25,
     "metadata": {},
     "output_type": "execute_result"
    }
   ],
   "source": [
    "C5"
   ]
  },
  {
   "cell_type": "markdown",
   "id": "c3fe1328",
   "metadata": {},
   "source": [
    "## 2 - Seleção de variáveis"
   ]
  },
  {
   "cell_type": "code",
   "execution_count": 26,
   "id": "e5305864",
   "metadata": {},
   "outputs": [
    {
     "data": {
      "text/plain": [
       "DecisionTreeClassifier(criterion='entropy', max_depth=10, random_state=15)"
      ]
     },
     "execution_count": 26,
     "metadata": {},
     "output_type": "execute_result"
    }
   ],
   "source": [
    "from sklearn.tree import DecisionTreeClassifier\n",
    "dt = DecisionTreeClassifier(random_state=15, criterion = 'entropy', max_depth = 10)\n",
    "dt.fit(C5,C1)"
   ]
  },
  {
   "cell_type": "code",
   "execution_count": 27,
   "id": "55a8bbae",
   "metadata": {
    "scrolled": true
   },
   "outputs": [
    {
     "data": {
      "text/html": [
       "<div>\n",
       "<style scoped>\n",
       "    .dataframe tbody tr th:only-of-type {\n",
       "        vertical-align: middle;\n",
       "    }\n",
       "\n",
       "    .dataframe tbody tr th {\n",
       "        vertical-align: top;\n",
       "    }\n",
       "\n",
       "    .dataframe thead th {\n",
       "        text-align: right;\n",
       "    }\n",
       "</style>\n",
       "<table border=\"1\" class=\"dataframe\">\n",
       "  <thead>\n",
       "    <tr style=\"text-align: right;\">\n",
       "      <th></th>\n",
       "      <th>index</th>\n",
       "      <th>Feature</th>\n",
       "      <th>Feature Importance</th>\n",
       "    </tr>\n",
       "  </thead>\n",
       "  <tbody>\n",
       "    <tr>\n",
       "      <th>0</th>\n",
       "      <td>5</td>\n",
       "      <td>PAY_AMT1</td>\n",
       "      <td>0.140081</td>\n",
       "    </tr>\n",
       "    <tr>\n",
       "      <th>1</th>\n",
       "      <td>4</td>\n",
       "      <td>LIMIT_BAL</td>\n",
       "      <td>0.138652</td>\n",
       "    </tr>\n",
       "    <tr>\n",
       "      <th>2</th>\n",
       "      <td>6</td>\n",
       "      <td>PAY_AMT2</td>\n",
       "      <td>0.104597</td>\n",
       "    </tr>\n",
       "    <tr>\n",
       "      <th>3</th>\n",
       "      <td>12</td>\n",
       "      <td>BILL_AMT2</td>\n",
       "      <td>0.072089</td>\n",
       "    </tr>\n",
       "    <tr>\n",
       "      <th>4</th>\n",
       "      <td>7</td>\n",
       "      <td>PAY_AMT3</td>\n",
       "      <td>0.068743</td>\n",
       "    </tr>\n",
       "    <tr>\n",
       "      <th>5</th>\n",
       "      <td>13</td>\n",
       "      <td>BILL_AMT3</td>\n",
       "      <td>0.063425</td>\n",
       "    </tr>\n",
       "    <tr>\n",
       "      <th>6</th>\n",
       "      <td>11</td>\n",
       "      <td>BILL_AMT1</td>\n",
       "      <td>0.062828</td>\n",
       "    </tr>\n",
       "    <tr>\n",
       "      <th>7</th>\n",
       "      <td>15</td>\n",
       "      <td>BILL_AMT5</td>\n",
       "      <td>0.053785</td>\n",
       "    </tr>\n",
       "    <tr>\n",
       "      <th>8</th>\n",
       "      <td>14</td>\n",
       "      <td>BILL_AMT4</td>\n",
       "      <td>0.050722</td>\n",
       "    </tr>\n",
       "    <tr>\n",
       "      <th>9</th>\n",
       "      <td>16</td>\n",
       "      <td>BILL_AMT6</td>\n",
       "      <td>0.049900</td>\n",
       "    </tr>\n",
       "    <tr>\n",
       "      <th>10</th>\n",
       "      <td>8</td>\n",
       "      <td>PAY_AMT4</td>\n",
       "      <td>0.044741</td>\n",
       "    </tr>\n",
       "    <tr>\n",
       "      <th>11</th>\n",
       "      <td>9</td>\n",
       "      <td>PAY_AMT5</td>\n",
       "      <td>0.037486</td>\n",
       "    </tr>\n",
       "    <tr>\n",
       "      <th>12</th>\n",
       "      <td>10</td>\n",
       "      <td>PAY_AMT6</td>\n",
       "      <td>0.034026</td>\n",
       "    </tr>\n",
       "    <tr>\n",
       "      <th>13</th>\n",
       "      <td>19</td>\n",
       "      <td>pagou_data_3</td>\n",
       "      <td>0.016437</td>\n",
       "    </tr>\n",
       "    <tr>\n",
       "      <th>14</th>\n",
       "      <td>21</td>\n",
       "      <td>pagou_data_5</td>\n",
       "      <td>0.016152</td>\n",
       "    </tr>\n",
       "    <tr>\n",
       "      <th>15</th>\n",
       "      <td>17</td>\n",
       "      <td>pagou_data_1</td>\n",
       "      <td>0.012292</td>\n",
       "    </tr>\n",
       "    <tr>\n",
       "      <th>16</th>\n",
       "      <td>22</td>\n",
       "      <td>pagou_data_6</td>\n",
       "      <td>0.009723</td>\n",
       "    </tr>\n",
       "    <tr>\n",
       "      <th>17</th>\n",
       "      <td>3</td>\n",
       "      <td>casada</td>\n",
       "      <td>0.008243</td>\n",
       "    </tr>\n",
       "    <tr>\n",
       "      <th>18</th>\n",
       "      <td>0</td>\n",
       "      <td>mulher</td>\n",
       "      <td>0.008223</td>\n",
       "    </tr>\n",
       "    <tr>\n",
       "      <th>19</th>\n",
       "      <td>2</td>\n",
       "      <td>esc_outras</td>\n",
       "      <td>0.003400</td>\n",
       "    </tr>\n",
       "    <tr>\n",
       "      <th>20</th>\n",
       "      <td>20</td>\n",
       "      <td>pagou_data_4</td>\n",
       "      <td>0.002263</td>\n",
       "    </tr>\n",
       "    <tr>\n",
       "      <th>21</th>\n",
       "      <td>1</td>\n",
       "      <td>esc_pos</td>\n",
       "      <td>0.001793</td>\n",
       "    </tr>\n",
       "    <tr>\n",
       "      <th>22</th>\n",
       "      <td>18</td>\n",
       "      <td>pagou_data_2</td>\n",
       "      <td>0.000397</td>\n",
       "    </tr>\n",
       "  </tbody>\n",
       "</table>\n",
       "</div>"
      ],
      "text/plain": [
       "    index       Feature  Feature Importance\n",
       "0       5      PAY_AMT1            0.140081\n",
       "1       4     LIMIT_BAL            0.138652\n",
       "2       6      PAY_AMT2            0.104597\n",
       "3      12     BILL_AMT2            0.072089\n",
       "4       7      PAY_AMT3            0.068743\n",
       "5      13     BILL_AMT3            0.063425\n",
       "6      11     BILL_AMT1            0.062828\n",
       "7      15     BILL_AMT5            0.053785\n",
       "8      14     BILL_AMT4            0.050722\n",
       "9      16     BILL_AMT6            0.049900\n",
       "10      8      PAY_AMT4            0.044741\n",
       "11      9      PAY_AMT5            0.037486\n",
       "12     10      PAY_AMT6            0.034026\n",
       "13     19  pagou_data_3            0.016437\n",
       "14     21  pagou_data_5            0.016152\n",
       "15     17  pagou_data_1            0.012292\n",
       "16     22  pagou_data_6            0.009723\n",
       "17      3        casada            0.008243\n",
       "18      0        mulher            0.008223\n",
       "19      2    esc_outras            0.003400\n",
       "20     20  pagou_data_4            0.002263\n",
       "21      1       esc_pos            0.001793\n",
       "22     18  pagou_data_2            0.000397"
      ]
     },
     "execution_count": 27,
     "metadata": {},
     "output_type": "execute_result"
    }
   ],
   "source": [
    "fi_col = []\n",
    "fi = []\n",
    "\n",
    "for i,column in enumerate(C5):\n",
    "    fi_col.append(column)\n",
    "    fi.append(dt.feature_importances_[i])\n",
    "\n",
    "fi_df = zip(fi_col, fi)\n",
    "fi_df = pd.DataFrame(fi_df, columns = ['Feature','Feature Importance'])\n",
    "\n",
    "fi_df = fi_df.sort_values('Feature Importance', ascending = False).reset_index()\n",
    "\n",
    "#columns_to_keep = fi_df['Feature'][0:22]\n",
    "#columns_to_keep = columns_to_keep.append(fi_df['Feature'][19:22])\n",
    "\n",
    "fi_df"
   ]
  },
  {
   "cell_type": "markdown",
   "id": "e5539d16",
   "metadata": {},
   "source": [
    "Todas as variáveis contribuem para explicar a probalidade de default."
   ]
  },
  {
   "cell_type": "markdown",
   "id": "2218ed0f",
   "metadata": {},
   "source": [
    "## 3 - Separação da base em treino, teste e validação"
   ]
  },
  {
   "cell_type": "code",
   "execution_count": 28,
   "id": "45518722",
   "metadata": {},
   "outputs": [],
   "source": [
    "from sklearn.model_selection import train_test_split\n",
    "from sklearn.model_selection import GridSearchCV\n",
    "from sklearn.linear_model import LogisticRegression\n",
    "from sklearn import metrics\n",
    "from math import sqrt\n",
    "import warnings\n",
    "warnings.filterwarnings('ignore', category=FutureWarning)\n",
    "warnings.filterwarnings('ignore', category=DeprecationWarning)"
   ]
  },
  {
   "cell_type": "code",
   "execution_count": 29,
   "id": "50315883",
   "metadata": {
    "scrolled": true
   },
   "outputs": [
    {
     "name": "stdout",
     "output_type": "stream",
     "text": [
      "0.4\n",
      "0.3\n",
      "0.3\n",
      "(11840, 23)\n",
      "(11840, 1)\n",
      "(8881, 23)\n",
      "(8881, 1)\n",
      "(8880, 23)\n",
      "(8880, 1)\n"
     ]
    }
   ],
   "source": [
    "X_train, X_test, y_train, y_test = train_test_split(C5, C1, test_size=0.6, random_state=42)\n",
    "X_val, X_test, y_val, y_test = train_test_split(X_test, y_test, test_size=0.5, random_state=42)\n",
    "\n",
    "for dataset in [y_train, y_val, y_test]:\n",
    "    print(round(len(dataset) / len(C1), 2))\n",
    "\n",
    "print(X_train.shape)\n",
    "print(y_train.shape)\n",
    "print(X_test.shape)\n",
    "print(y_test.shape)\n",
    "print(X_val.shape)\n",
    "print(y_val.shape)"
   ]
  },
  {
   "cell_type": "markdown",
   "id": "95b2180c",
   "metadata": {},
   "source": [
    "## 4 - Estimação dos modelos"
   ]
  },
  {
   "cell_type": "markdown",
   "id": "ea2de3e9",
   "metadata": {},
   "source": [
    "### Regressão logística"
   ]
  },
  {
   "cell_type": "markdown",
   "id": "1c6725a9",
   "metadata": {},
   "source": [
    "#### Hyperparameter tuning"
   ]
  },
  {
   "cell_type": "code",
   "execution_count": 30,
   "id": "9a1261eb",
   "metadata": {
    "scrolled": false
   },
   "outputs": [
    {
     "name": "stderr",
     "output_type": "stream",
     "text": [
      "C:\\Users\\prkas\\anaconda3\\lib\\site-packages\\sklearn\\utils\\validation.py:993: DataConversionWarning: A column-vector y was passed when a 1d array was expected. Please change the shape of y to (n_samples, ), for example using ravel().\n",
      "  y = column_or_1d(y, warn=True)\n",
      "C:\\Users\\prkas\\anaconda3\\lib\\site-packages\\sklearn\\utils\\validation.py:993: DataConversionWarning: A column-vector y was passed when a 1d array was expected. Please change the shape of y to (n_samples, ), for example using ravel().\n",
      "  y = column_or_1d(y, warn=True)\n",
      "C:\\Users\\prkas\\anaconda3\\lib\\site-packages\\sklearn\\utils\\validation.py:993: DataConversionWarning: A column-vector y was passed when a 1d array was expected. Please change the shape of y to (n_samples, ), for example using ravel().\n",
      "  y = column_or_1d(y, warn=True)\n",
      "C:\\Users\\prkas\\anaconda3\\lib\\site-packages\\sklearn\\utils\\validation.py:993: DataConversionWarning: A column-vector y was passed when a 1d array was expected. Please change the shape of y to (n_samples, ), for example using ravel().\n",
      "  y = column_or_1d(y, warn=True)\n",
      "C:\\Users\\prkas\\anaconda3\\lib\\site-packages\\sklearn\\utils\\validation.py:993: DataConversionWarning: A column-vector y was passed when a 1d array was expected. Please change the shape of y to (n_samples, ), for example using ravel().\n",
      "  y = column_or_1d(y, warn=True)\n",
      "C:\\Users\\prkas\\anaconda3\\lib\\site-packages\\sklearn\\utils\\validation.py:993: DataConversionWarning: A column-vector y was passed when a 1d array was expected. Please change the shape of y to (n_samples, ), for example using ravel().\n",
      "  y = column_or_1d(y, warn=True)\n",
      "C:\\Users\\prkas\\anaconda3\\lib\\site-packages\\sklearn\\utils\\validation.py:993: DataConversionWarning: A column-vector y was passed when a 1d array was expected. Please change the shape of y to (n_samples, ), for example using ravel().\n",
      "  y = column_or_1d(y, warn=True)\n",
      "C:\\Users\\prkas\\anaconda3\\lib\\site-packages\\sklearn\\utils\\validation.py:993: DataConversionWarning: A column-vector y was passed when a 1d array was expected. Please change the shape of y to (n_samples, ), for example using ravel().\n",
      "  y = column_or_1d(y, warn=True)\n",
      "C:\\Users\\prkas\\anaconda3\\lib\\site-packages\\sklearn\\utils\\validation.py:993: DataConversionWarning: A column-vector y was passed when a 1d array was expected. Please change the shape of y to (n_samples, ), for example using ravel().\n",
      "  y = column_or_1d(y, warn=True)\n",
      "C:\\Users\\prkas\\anaconda3\\lib\\site-packages\\sklearn\\utils\\validation.py:993: DataConversionWarning: A column-vector y was passed when a 1d array was expected. Please change the shape of y to (n_samples, ), for example using ravel().\n",
      "  y = column_or_1d(y, warn=True)\n",
      "C:\\Users\\prkas\\anaconda3\\lib\\site-packages\\sklearn\\utils\\validation.py:993: DataConversionWarning: A column-vector y was passed when a 1d array was expected. Please change the shape of y to (n_samples, ), for example using ravel().\n",
      "  y = column_or_1d(y, warn=True)\n",
      "C:\\Users\\prkas\\anaconda3\\lib\\site-packages\\sklearn\\utils\\validation.py:993: DataConversionWarning: A column-vector y was passed when a 1d array was expected. Please change the shape of y to (n_samples, ), for example using ravel().\n",
      "  y = column_or_1d(y, warn=True)\n",
      "C:\\Users\\prkas\\anaconda3\\lib\\site-packages\\sklearn\\utils\\validation.py:993: DataConversionWarning: A column-vector y was passed when a 1d array was expected. Please change the shape of y to (n_samples, ), for example using ravel().\n",
      "  y = column_or_1d(y, warn=True)\n",
      "C:\\Users\\prkas\\anaconda3\\lib\\site-packages\\sklearn\\utils\\validation.py:993: DataConversionWarning: A column-vector y was passed when a 1d array was expected. Please change the shape of y to (n_samples, ), for example using ravel().\n",
      "  y = column_or_1d(y, warn=True)\n",
      "C:\\Users\\prkas\\anaconda3\\lib\\site-packages\\sklearn\\utils\\validation.py:993: DataConversionWarning: A column-vector y was passed when a 1d array was expected. Please change the shape of y to (n_samples, ), for example using ravel().\n",
      "  y = column_or_1d(y, warn=True)\n",
      "C:\\Users\\prkas\\anaconda3\\lib\\site-packages\\sklearn\\utils\\validation.py:993: DataConversionWarning: A column-vector y was passed when a 1d array was expected. Please change the shape of y to (n_samples, ), for example using ravel().\n",
      "  y = column_or_1d(y, warn=True)\n",
      "C:\\Users\\prkas\\anaconda3\\lib\\site-packages\\sklearn\\utils\\validation.py:993: DataConversionWarning: A column-vector y was passed when a 1d array was expected. Please change the shape of y to (n_samples, ), for example using ravel().\n",
      "  y = column_or_1d(y, warn=True)\n",
      "C:\\Users\\prkas\\anaconda3\\lib\\site-packages\\sklearn\\utils\\validation.py:993: DataConversionWarning: A column-vector y was passed when a 1d array was expected. Please change the shape of y to (n_samples, ), for example using ravel().\n",
      "  y = column_or_1d(y, warn=True)\n",
      "C:\\Users\\prkas\\anaconda3\\lib\\site-packages\\sklearn\\utils\\validation.py:993: DataConversionWarning: A column-vector y was passed when a 1d array was expected. Please change the shape of y to (n_samples, ), for example using ravel().\n",
      "  y = column_or_1d(y, warn=True)\n",
      "C:\\Users\\prkas\\anaconda3\\lib\\site-packages\\sklearn\\utils\\validation.py:993: DataConversionWarning: A column-vector y was passed when a 1d array was expected. Please change the shape of y to (n_samples, ), for example using ravel().\n",
      "  y = column_or_1d(y, warn=True)\n"
     ]
    },
    {
     "data": {
      "text/html": [
       "<div>\n",
       "<style scoped>\n",
       "    .dataframe tbody tr th:only-of-type {\n",
       "        vertical-align: middle;\n",
       "    }\n",
       "\n",
       "    .dataframe tbody tr th {\n",
       "        vertical-align: top;\n",
       "    }\n",
       "\n",
       "    .dataframe thead th {\n",
       "        text-align: right;\n",
       "    }\n",
       "</style>\n",
       "<table border=\"1\" class=\"dataframe\">\n",
       "  <thead>\n",
       "    <tr style=\"text-align: right;\">\n",
       "      <th></th>\n",
       "      <th>index</th>\n",
       "      <th>C_List</th>\n",
       "      <th>CA2</th>\n",
       "      <th>Logarithmic_Loss2</th>\n",
       "    </tr>\n",
       "  </thead>\n",
       "  <tbody>\n",
       "    <tr>\n",
       "      <th>0</th>\n",
       "      <td>9</td>\n",
       "      <td>0.545559</td>\n",
       "      <td>0.771647</td>\n",
       "      <td>0.512556</td>\n",
       "    </tr>\n",
       "    <tr>\n",
       "      <th>1</th>\n",
       "      <td>10</td>\n",
       "      <td>1.832981</td>\n",
       "      <td>0.771647</td>\n",
       "      <td>0.512596</td>\n",
       "    </tr>\n",
       "    <tr>\n",
       "      <th>2</th>\n",
       "      <td>11</td>\n",
       "      <td>6.158482</td>\n",
       "      <td>0.771647</td>\n",
       "      <td>0.512613</td>\n",
       "    </tr>\n",
       "    <tr>\n",
       "      <th>3</th>\n",
       "      <td>12</td>\n",
       "      <td>20.691381</td>\n",
       "      <td>0.771647</td>\n",
       "      <td>0.512619</td>\n",
       "    </tr>\n",
       "    <tr>\n",
       "      <th>4</th>\n",
       "      <td>13</td>\n",
       "      <td>69.519280</td>\n",
       "      <td>0.771647</td>\n",
       "      <td>0.512621</td>\n",
       "    </tr>\n",
       "    <tr>\n",
       "      <th>5</th>\n",
       "      <td>14</td>\n",
       "      <td>233.572147</td>\n",
       "      <td>0.771647</td>\n",
       "      <td>0.512621</td>\n",
       "    </tr>\n",
       "    <tr>\n",
       "      <th>6</th>\n",
       "      <td>15</td>\n",
       "      <td>784.759970</td>\n",
       "      <td>0.771647</td>\n",
       "      <td>0.512622</td>\n",
       "    </tr>\n",
       "    <tr>\n",
       "      <th>7</th>\n",
       "      <td>16</td>\n",
       "      <td>2636.650899</td>\n",
       "      <td>0.771647</td>\n",
       "      <td>0.512622</td>\n",
       "    </tr>\n",
       "    <tr>\n",
       "      <th>8</th>\n",
       "      <td>17</td>\n",
       "      <td>8858.667904</td>\n",
       "      <td>0.771647</td>\n",
       "      <td>0.512622</td>\n",
       "    </tr>\n",
       "    <tr>\n",
       "      <th>9</th>\n",
       "      <td>18</td>\n",
       "      <td>29763.514416</td>\n",
       "      <td>0.771647</td>\n",
       "      <td>0.512622</td>\n",
       "    </tr>\n",
       "    <tr>\n",
       "      <th>10</th>\n",
       "      <td>19</td>\n",
       "      <td>100000.000000</td>\n",
       "      <td>0.771647</td>\n",
       "      <td>0.512622</td>\n",
       "    </tr>\n",
       "    <tr>\n",
       "      <th>11</th>\n",
       "      <td>8</td>\n",
       "      <td>0.162378</td>\n",
       "      <td>0.771647</td>\n",
       "      <td>0.512637</td>\n",
       "    </tr>\n",
       "    <tr>\n",
       "      <th>12</th>\n",
       "      <td>7</td>\n",
       "      <td>0.048329</td>\n",
       "      <td>0.771647</td>\n",
       "      <td>0.513245</td>\n",
       "    </tr>\n",
       "    <tr>\n",
       "      <th>13</th>\n",
       "      <td>6</td>\n",
       "      <td>0.014384</td>\n",
       "      <td>0.771647</td>\n",
       "      <td>0.516672</td>\n",
       "    </tr>\n",
       "    <tr>\n",
       "      <th>14</th>\n",
       "      <td>5</td>\n",
       "      <td>0.004281</td>\n",
       "      <td>0.771647</td>\n",
       "      <td>0.523545</td>\n",
       "    </tr>\n",
       "    <tr>\n",
       "      <th>15</th>\n",
       "      <td>4</td>\n",
       "      <td>0.001274</td>\n",
       "      <td>0.771647</td>\n",
       "      <td>0.545240</td>\n",
       "    </tr>\n",
       "    <tr>\n",
       "      <th>16</th>\n",
       "      <td>3</td>\n",
       "      <td>0.000379</td>\n",
       "      <td>0.771647</td>\n",
       "      <td>0.635255</td>\n",
       "    </tr>\n",
       "    <tr>\n",
       "      <th>17</th>\n",
       "      <td>2</td>\n",
       "      <td>0.000113</td>\n",
       "      <td>0.771647</td>\n",
       "      <td>0.693147</td>\n",
       "    </tr>\n",
       "    <tr>\n",
       "      <th>18</th>\n",
       "      <td>1</td>\n",
       "      <td>0.000034</td>\n",
       "      <td>0.771647</td>\n",
       "      <td>0.693147</td>\n",
       "    </tr>\n",
       "    <tr>\n",
       "      <th>19</th>\n",
       "      <td>0</td>\n",
       "      <td>0.000010</td>\n",
       "      <td>0.771647</td>\n",
       "      <td>0.693147</td>\n",
       "    </tr>\n",
       "  </tbody>\n",
       "</table>\n",
       "</div>"
      ],
      "text/plain": [
       "    index         C_List       CA2  Logarithmic_Loss2\n",
       "0       9       0.545559  0.771647           0.512556\n",
       "1      10       1.832981  0.771647           0.512596\n",
       "2      11       6.158482  0.771647           0.512613\n",
       "3      12      20.691381  0.771647           0.512619\n",
       "4      13      69.519280  0.771647           0.512621\n",
       "5      14     233.572147  0.771647           0.512621\n",
       "6      15     784.759970  0.771647           0.512622\n",
       "7      16    2636.650899  0.771647           0.512622\n",
       "8      17    8858.667904  0.771647           0.512622\n",
       "9      18   29763.514416  0.771647           0.512622\n",
       "10     19  100000.000000  0.771647           0.512622\n",
       "11      8       0.162378  0.771647           0.512637\n",
       "12      7       0.048329  0.771647           0.513245\n",
       "13      6       0.014384  0.771647           0.516672\n",
       "14      5       0.004281  0.771647           0.523545\n",
       "15      4       0.001274  0.771647           0.545240\n",
       "16      3       0.000379  0.771647           0.635255\n",
       "17      2       0.000113  0.771647           0.693147\n",
       "18      1       0.000034  0.771647           0.693147\n",
       "19      0       0.000010  0.771647           0.693147"
      ]
     },
     "execution_count": 30,
     "metadata": {},
     "output_type": "execute_result"
    }
   ],
   "source": [
    "N = 20\n",
    "C_List = np.geomspace(1e-5, 1e5, num=N)\n",
    "CA = []\n",
    "Logarithmic_Loss = []\n",
    "\n",
    "for c in C_List:\n",
    "    log_reg = LogisticRegression(solver = 'liblinear', penalty = 'l1', random_state=10, C=c)\n",
    "    log_reg.fit(X_train, y_train)\n",
    "    score = log_reg.score(X_test, y_test)\n",
    "    CA.append(score)\n",
    "    y_hat = log_reg.predict_proba(X_test)\n",
    "    loss = metrics.log_loss(y_test, y_hat)\n",
    "    Logarithmic_Loss.append(loss)\n",
    "\n",
    "CA2 = np.array(CA).reshape(N,)\n",
    "Logarithmic_Loss = np.array(Logarithmic_Loss).reshape(N,)\n",
    "\n",
    "outcomes = zip(C_List, CA2, Logarithmic_Loss)\n",
    "\n",
    "df_outcomes = pd.DataFrame(outcomes, columns = ['C_List', 'CA2','Logarithmic_Loss2'])\n",
    "\n",
    "df_outcomes.sort_values(by = ['Logarithmic_Loss2']).reset_index()"
   ]
  },
  {
   "cell_type": "code",
   "execution_count": 31,
   "id": "f0357d7f",
   "metadata": {
    "scrolled": false
   },
   "outputs": [
    {
     "name": "stderr",
     "output_type": "stream",
     "text": [
      "C:\\Users\\prkas\\anaconda3\\lib\\site-packages\\sklearn\\utils\\validation.py:993: DataConversionWarning: A column-vector y was passed when a 1d array was expected. Please change the shape of y to (n_samples, ), for example using ravel().\n",
      "  y = column_or_1d(y, warn=True)\n"
     ]
    },
    {
     "name": "stdout",
     "output_type": "stream",
     "text": [
      "Testing Acc: 0.7748873873873874\n"
     ]
    },
    {
     "ename": "NameError",
     "evalue": "name 'loss2' is not defined",
     "output_type": "error",
     "traceback": [
      "\u001b[1;31m---------------------------------------------------------------------------\u001b[0m",
      "\u001b[1;31mNameError\u001b[0m                                 Traceback (most recent call last)",
      "Input \u001b[1;32mIn [31]\u001b[0m, in \u001b[0;36m<cell line: 10>\u001b[1;34m()\u001b[0m\n\u001b[0;32m      7\u001b[0m loss_f \u001b[38;5;241m=\u001b[39m metrics\u001b[38;5;241m.\u001b[39mlog_loss(y_val, pred_proba_t)\n\u001b[0;32m      9\u001b[0m \u001b[38;5;28mprint\u001b[39m(\u001b[38;5;124m\"\u001b[39m\u001b[38;5;124mTesting Acc:\u001b[39m\u001b[38;5;124m\"\u001b[39m, score)\n\u001b[1;32m---> 10\u001b[0m \u001b[38;5;28mprint\u001b[39m(\u001b[38;5;124m\"\u001b[39m\u001b[38;5;124mLog Loss:\u001b[39m\u001b[38;5;124m\"\u001b[39m, \u001b[43mloss2\u001b[49m)\n",
      "\u001b[1;31mNameError\u001b[0m: name 'loss2' is not defined"
     ]
    }
   ],
   "source": [
    "# Modelo final\n",
    "log_reg_f = LogisticRegression(solver = 'liblinear', penalty = 'l1', random_state=10, C=0.545559)\n",
    "log_reg_f.fit(X_train, y_train)\n",
    "score = log_reg_f.score(X_val, y_val)\n",
    "\n",
    "pred_proba_t = log_reg_f.predict_proba(X_val)\n",
    "loss_f = metrics.log_loss(y_val, pred_proba_t)\n",
    "\n",
    "print(\"Testing Acc:\", score)\n",
    "print(\"Log Loss:\", loss2)"
   ]
  },
  {
   "cell_type": "code",
   "execution_count": null,
   "id": "15de6cf4",
   "metadata": {},
   "outputs": [],
   "source": []
  }
 ],
 "metadata": {
  "kernelspec": {
   "display_name": "Python 3 (ipykernel)",
   "language": "python",
   "name": "python3"
  },
  "language_info": {
   "codemirror_mode": {
    "name": "ipython",
    "version": 3
   },
   "file_extension": ".py",
   "mimetype": "text/x-python",
   "name": "python",
   "nbconvert_exporter": "python",
   "pygments_lexer": "ipython3",
   "version": "3.9.12"
  }
 },
 "nbformat": 4,
 "nbformat_minor": 5
}
